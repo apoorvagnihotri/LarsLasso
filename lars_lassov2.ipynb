{
 "cells": [
  {
   "cell_type": "code",
   "execution_count": 74,
   "metadata": {},
   "outputs": [],
   "source": [
    "from __future__ import print_function\n",
    "import numpy as np\n",
    "from sklearn.linear_model import LinearRegression\n",
    "from sklearn.metrics import mean_squared_error\n",
    "import pandas as pd\n",
    "import math\n",
    "import os\n",
    "import matplotlib.pyplot as plt\n",
    "from sklearn.linear_model import LassoLars,lars_path,LassoLarsCV\n",
    "from sklearn import datasets\n",
    "import ipywidgets as widgets\n",
    "from ipywidgets import IntSlider\n",
    "from ipywidgets.embed import embed_data\n",
    "import nbinteract as nbi\n",
    "from ipywidgets import interact, interactive\n"
   ]
  },
  {
   "cell_type": "code",
   "execution_count": 91,
   "metadata": {},
   "outputs": [],
   "source": [
    "def LarsLasso(Distribution,Noise,Alpha,checkbox1,checkbox2):\n",
    "    Noise = Noise/100\n",
    "    X = np.arange(0, 20.1, 0.1)\n",
    "    np.random.seed(0)\n",
    "    if(Distribution=='Gaussian'):\n",
    "        random = np.random.randn(len(X))\n",
    "    elif(Distribution=='Uniform'):\n",
    "        random = np.random.uniform(size=len(X))\n",
    "    elif(Distribution=='Exponential'):\n",
    "        random = np.random.exponential(size=len(X))\n",
    "    Y = (5*X - 6) + np.max(X)*Noise*random\n",
    "    X = X/np.max(X)\n",
    "    O = X\n",
    "    O_ = np.hstack((np.ones((201,1)),np.c_[X]))\n",
    "    if(checkbox2==True):\n",
    "        Y = 3*np.square(X) +(5*X - 6) + np.max(X)*Noise*random\n",
    "    if(checkbox1==True):\n",
    "        r = LassoLarsCV(cv=5).fit(O_, Y)\n",
    "        Alpha = r.alpha_\n",
    "        print('Optimal Alpha = ' + str(Alpha))\n",
    "    reg = LassoLars(alpha=Alpha)\n",
    "    reg.fit(O_,Y)\n",
    "    theta = reg.coef_\n",
    "    plt.scatter(X,Y, s=10)\n",
    "    y_pred = reg.predict(O_)\n",
    "    plt.plot(X, y_pred, color='r')\n",
    "    plt.show()\n",
    "    #return X,Y, y_pred"
   ]
  },
  {
   "cell_type": "code",
   "execution_count": 92,
   "metadata": {
    "scrolled": true
   },
   "outputs": [
    {
     "data": {
      "application/vnd.jupyter.widget-view+json": {
       "model_id": "c641d88047c64256b4ca985059312a96",
       "version_major": 2,
       "version_minor": 0
      },
      "text/plain": [
       "interactive(children=(Dropdown(description='Distribution', options=('Gaussian', 'Uniform', 'Exponential'), val…"
      ]
     },
     "metadata": {},
     "output_type": "display_data"
    }
   ],
   "source": [
    "checkbox1 = widgets.Checkbox(description='Use Optimal Alpha')\n",
    "checkbox2 = widgets.Checkbox(description='Use Non-linear Data')\n",
    "widget = interactive(LarsLasso,Distribution=['Gaussian','Uniform','Exponential'],Noise = (0, 1e2, 1),Alpha = (0, 20, 1),checkbox1=checkbox1,checkbox2 = checkbox2)\n",
    "widget"
   ]
  }
 ],
 "metadata": {
  "kernelspec": {
   "display_name": "Python 3",
   "language": "python",
   "name": "python3"
  },
  "language_info": {
   "codemirror_mode": {
    "name": "ipython",
    "version": 3
   },
   "file_extension": ".py",
   "mimetype": "text/x-python",
   "name": "python",
   "nbconvert_exporter": "python",
   "pygments_lexer": "ipython3",
   "version": "3.6.8"
  }
 },
 "nbformat": 4,
 "nbformat_minor": 2
}
